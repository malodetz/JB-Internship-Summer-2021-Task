{
 "cells": [
  {
   "cell_type": "markdown",
   "metadata": {
    "pycharm": {
     "name": "#%% md\n"
    }
   },
   "source": [
    "! Note, that first two code cells take several hours to execute, avoid running them.\n",
    "\n",
    "# Main task"
   ]
  },
  {
   "cell_type": "markdown",
   "metadata": {},
   "source": [
    "Preprocess each project separately, to turn it into a dataset for a trained model:"
   ]
  },
  {
   "cell_type": "code",
   "execution_count": null,
   "metadata": {
    "pycharm": {
     "name": "#%%\n"
    }
   },
   "outputs": [],
   "source": [
    "import os\n",
    "\n",
    "\n",
    "for project_name in os.listdir('sources'):\n",
    "    os.system(\"bash preprocess.sh \" + project_name)"
   ]
  },
  {
   "cell_type": "markdown",
   "metadata": {},
   "source": [
    "To calculate quality metrics, evaluate a trained model passing each preprocessed project as test data:"
   ]
  },
  {
   "cell_type": "code",
   "execution_count": 8,
   "metadata": {
    "pycharm": {
     "name": "#%%\n"
    }
   },
   "outputs": [],
   "source": [
    "import csv\n",
    "import os\n",
    "\n",
    "result_file = \"quality_metrics.csv\"\n",
    "header = [\"Project\", \"F1\", \"Precision\", \"Recall\"]\n",
    "with open(result_file, \"w\") as f:\n",
    "    writer = csv.DictWriter(f, fieldnames=header)\n",
    "    writer.writeheader()\n",
    "    f.close()\n",
    "for project_name in os.listdir('sources'):\n",
    "    os.system(\"python3 code2seq.py --project %s --load models/java-large-model/model_iter52.release --test \"\n",
    "              \"data/%s/%s.test.c2s\" % (project_name, project_name, project_name))"
   ]
  },
  {
   "cell_type": "markdown",
   "metadata": {},
   "source": [
    "Let's look at the projects, where recognition results were best and worst:"
   ]
  },
  {
   "cell_type": "code",
   "execution_count": 9,
   "metadata": {
    "pycharm": {
     "name": "#%%\n"
    }
   },
   "outputs": [
    {
     "data": {
      "text/html": [
       "<div>\n",
       "<style scoped>\n",
       "    .dataframe tbody tr th:only-of-type {\n",
       "        vertical-align: middle;\n",
       "    }\n",
       "\n",
       "    .dataframe tbody tr th {\n",
       "        vertical-align: top;\n",
       "    }\n",
       "\n",
       "    .dataframe thead th {\n",
       "        text-align: right;\n",
       "    }\n",
       "</style>\n",
       "<table border=\"1\" class=\"dataframe\">\n",
       "  <thead>\n",
       "    <tr style=\"text-align: right;\">\n",
       "      <th></th>\n",
       "      <th>Project</th>\n",
       "      <th>F1</th>\n",
       "      <th>Precision</th>\n",
       "      <th>Recall</th>\n",
       "    </tr>\n",
       "  </thead>\n",
       "  <tbody>\n",
       "    <tr>\n",
       "      <th>80</th>\n",
       "      <td>Devlight__InfiniteCycleViewPager</td>\n",
       "      <td>0.907839</td>\n",
       "      <td>0.915598</td>\n",
       "      <td>0.900210</td>\n",
       "    </tr>\n",
       "    <tr>\n",
       "      <th>89</th>\n",
       "      <td>Tencent__MSEC</td>\n",
       "      <td>0.904964</td>\n",
       "      <td>0.910945</td>\n",
       "      <td>0.899061</td>\n",
       "    </tr>\n",
       "    <tr>\n",
       "      <th>71</th>\n",
       "      <td>Trinea__android-auto-scroll-view-pager</td>\n",
       "      <td>0.878378</td>\n",
       "      <td>0.902778</td>\n",
       "      <td>0.855263</td>\n",
       "    </tr>\n",
       "    <tr>\n",
       "      <th>72</th>\n",
       "      <td>daimajia__NumberProgressBar</td>\n",
       "      <td>0.867925</td>\n",
       "      <td>0.877863</td>\n",
       "      <td>0.858209</td>\n",
       "    </tr>\n",
       "    <tr>\n",
       "      <th>48</th>\n",
       "      <td>hugeterry__CoordinatorTabLayout</td>\n",
       "      <td>0.855072</td>\n",
       "      <td>0.867647</td>\n",
       "      <td>0.842857</td>\n",
       "    </tr>\n",
       "    <tr>\n",
       "      <th>...</th>\n",
       "      <td>...</td>\n",
       "      <td>...</td>\n",
       "      <td>...</td>\n",
       "      <td>...</td>\n",
       "    </tr>\n",
       "    <tr>\n",
       "      <th>60</th>\n",
       "      <td>square__keywhiz</td>\n",
       "      <td>0.396026</td>\n",
       "      <td>0.422675</td>\n",
       "      <td>0.372539</td>\n",
       "    </tr>\n",
       "    <tr>\n",
       "      <th>57</th>\n",
       "      <td>libgdx__packr</td>\n",
       "      <td>0.389381</td>\n",
       "      <td>0.448980</td>\n",
       "      <td>0.343750</td>\n",
       "    </tr>\n",
       "    <tr>\n",
       "      <th>32</th>\n",
       "      <td>EnterpriseQualityCoding__FizzBuzzEnterpriseEdi...</td>\n",
       "      <td>0.379221</td>\n",
       "      <td>0.392473</td>\n",
       "      <td>0.366834</td>\n",
       "    </tr>\n",
       "    <tr>\n",
       "      <th>77</th>\n",
       "      <td>rest-assured__rest-assured</td>\n",
       "      <td>0.327217</td>\n",
       "      <td>0.437792</td>\n",
       "      <td>0.261236</td>\n",
       "    </tr>\n",
       "    <tr>\n",
       "      <th>3</th>\n",
       "      <td>socketio__socket.io-client-java</td>\n",
       "      <td>0.279433</td>\n",
       "      <td>0.305426</td>\n",
       "      <td>0.257516</td>\n",
       "    </tr>\n",
       "  </tbody>\n",
       "</table>\n",
       "<p>95 rows × 4 columns</p>\n",
       "</div>"
      ],
      "text/plain": [
       "                                              Project        F1  Precision  \\\n",
       "80                   Devlight__InfiniteCycleViewPager  0.907839   0.915598   \n",
       "89                                      Tencent__MSEC  0.904964   0.910945   \n",
       "71             Trinea__android-auto-scroll-view-pager  0.878378   0.902778   \n",
       "72                        daimajia__NumberProgressBar  0.867925   0.877863   \n",
       "48                    hugeterry__CoordinatorTabLayout  0.855072   0.867647   \n",
       "..                                                ...       ...        ...   \n",
       "60                                    square__keywhiz  0.396026   0.422675   \n",
       "57                                      libgdx__packr  0.389381   0.448980   \n",
       "32  EnterpriseQualityCoding__FizzBuzzEnterpriseEdi...  0.379221   0.392473   \n",
       "77                         rest-assured__rest-assured  0.327217   0.437792   \n",
       "3                     socketio__socket.io-client-java  0.279433   0.305426   \n",
       "\n",
       "      Recall  \n",
       "80  0.900210  \n",
       "89  0.899061  \n",
       "71  0.855263  \n",
       "72  0.858209  \n",
       "48  0.842857  \n",
       "..       ...  \n",
       "60  0.372539  \n",
       "57  0.343750  \n",
       "32  0.366834  \n",
       "77  0.261236  \n",
       "3   0.257516  \n",
       "\n",
       "[95 rows x 4 columns]"
      ]
     },
     "execution_count": 9,
     "metadata": {},
     "output_type": "execute_result"
    }
   ],
   "source": [
    "import pandas as pd\n",
    "\n",
    "data = pd.read_csv(result_file)\n",
    "data = data.sort_values(by=\"F1\", ascending=False)\n",
    "data"
   ]
  },
  {
   "cell_type": "markdown",
   "metadata": {},
   "source": [
    "Now, find a mean and spread for each of quality metrics:"
   ]
  },
  {
   "cell_type": "code",
   "execution_count": 10,
   "metadata": {
    "pycharm": {
     "name": "#%%\n"
    }
   },
   "outputs": [
    {
     "name": "stdout",
     "output_type": "stream",
     "text": [
      "F1: mean 0.6487602105263157 spread 0.13753456932061955\n",
      "Precision: mean 0.6802209578947369 spread 0.12633969306886522\n",
      "Recall: mean 0.6226689368421051 spread 0.14871029515239287\n"
     ]
    }
   ],
   "source": [
    "import numpy as np\n",
    "\n",
    "def get_mean_and_spread(metric):\n",
    "    print(metric+\":\", \"mean\", np.mean(data[metric]), \"spread\", np.std(data[metric]))\n",
    "\n",
    "get_mean_and_spread(\"F1\")\n",
    "get_mean_and_spread(\"Precision\")\n",
    "get_mean_and_spread(\"Recall\")"
   ]
  },
  {
   "cell_type": "markdown",
   "metadata": {},
   "source": [
    "# Additional research\n",
    "Let's find some features, which are common for all projects with the **best** recognition results:"
   ]
  },
  {
   "cell_type": "code",
   "execution_count": 11,
   "metadata": {
    "pycharm": {
     "name": "#%%\n"
    },
    "scrolled": true
   },
   "outputs": [
    {
     "data": {
      "text/html": [
       "<div>\n",
       "<style scoped>\n",
       "    .dataframe tbody tr th:only-of-type {\n",
       "        vertical-align: middle;\n",
       "    }\n",
       "\n",
       "    .dataframe tbody tr th {\n",
       "        vertical-align: top;\n",
       "    }\n",
       "\n",
       "    .dataframe thead th {\n",
       "        text-align: right;\n",
       "    }\n",
       "</style>\n",
       "<table border=\"1\" class=\"dataframe\">\n",
       "  <thead>\n",
       "    <tr style=\"text-align: right;\">\n",
       "      <th></th>\n",
       "      <th>Project</th>\n",
       "      <th>Size</th>\n",
       "      <th>Number of methods</th>\n",
       "      <th>Mean size of tree</th>\n",
       "    </tr>\n",
       "  </thead>\n",
       "  <tbody>\n",
       "    <tr>\n",
       "      <th>0</th>\n",
       "      <td>Devlight__InfiniteCycleViewPager</td>\n",
       "      <td>189661</td>\n",
       "      <td>294</td>\n",
       "      <td>9012.132653</td>\n",
       "    </tr>\n",
       "    <tr>\n",
       "      <th>1</th>\n",
       "      <td>Tencent__MSEC</td>\n",
       "      <td>5911724</td>\n",
       "      <td>12141</td>\n",
       "      <td>4359.744337</td>\n",
       "    </tr>\n",
       "    <tr>\n",
       "      <th>2</th>\n",
       "      <td>Trinea__android-auto-scroll-view-pager</td>\n",
       "      <td>14764</td>\n",
       "      <td>25</td>\n",
       "      <td>3427.600000</td>\n",
       "    </tr>\n",
       "    <tr>\n",
       "      <th>3</th>\n",
       "      <td>daimajia__NumberProgressBar</td>\n",
       "      <td>18650</td>\n",
       "      <td>43</td>\n",
       "      <td>4888.674419</td>\n",
       "    </tr>\n",
       "    <tr>\n",
       "      <th>4</th>\n",
       "      <td>hugeterry__CoordinatorTabLayout</td>\n",
       "      <td>25449</td>\n",
       "      <td>47</td>\n",
       "      <td>7749.595745</td>\n",
       "    </tr>\n",
       "  </tbody>\n",
       "</table>\n",
       "</div>"
      ],
      "text/plain": [
       "                                  Project     Size Number of methods  \\\n",
       "0        Devlight__InfiniteCycleViewPager   189661               294   \n",
       "1                           Tencent__MSEC  5911724             12141   \n",
       "2  Trinea__android-auto-scroll-view-pager    14764                25   \n",
       "3             daimajia__NumberProgressBar    18650                43   \n",
       "4         hugeterry__CoordinatorTabLayout    25449                47   \n",
       "\n",
       "   Mean size of tree  \n",
       "0        9012.132653  \n",
       "1        4359.744337  \n",
       "2        3427.600000  \n",
       "3        4888.674419  \n",
       "4        7749.595745  "
      ]
     },
     "execution_count": 11,
     "metadata": {},
     "output_type": "execute_result"
    }
   ],
   "source": [
    "import os\n",
    "import numpy as np\n",
    "\n",
    "def get_size(start_path):\n",
    "    total_size = 0\n",
    "    for dirpath, dirnames, filenames in os.walk(start_path):\n",
    "        for f in filenames:\n",
    "            fp = os.path.join(dirpath, f)\n",
    "            # skip if it is symbolic link\n",
    "            if not os.path.islink(fp):\n",
    "                total_size += os.path.getsize(fp)\n",
    "\n",
    "    return total_size\n",
    "\n",
    "def get_number_of_methods(project_name):\n",
    "    os.system(\"bash GetPaths.sh \"+project_name)\n",
    "    return len([line for line in open(project_name+\".test.raw.txt\", \"r\")])\n",
    "\n",
    "def get_mean_size_of_tree(project_name):\n",
    "    return np.mean([len(line) for line in open(project_name+\".test.raw.txt\", \"r\")])\n",
    "\n",
    "def get_projects_info(project_names):\n",
    "    projects = pd.DataFrame(columns=[\"Project\", \"Size\", \"Number of methods\", \"Mean size of tree\"])\n",
    "    for project_name in project_names:\n",
    "        project_info = {\n",
    "           \"Project\": project_name,\n",
    "           \"Size\": get_size(\"sources/\"+project_name),\n",
    "           \"Number of methods\": get_number_of_methods(project_name),\n",
    "           \"Mean size of tree\" : get_mean_size_of_tree(project_name)\n",
    "        }\n",
    "        projects = projects.append(project_info, ignore_index=True)\n",
    "    return projects\n",
    "\n",
    "best_project_names = data.head(5)[\"Project\"].tolist()\n",
    "get_projects_info(best_project_names)"
   ]
  },
  {
   "cell_type": "markdown",
   "metadata": {},
   "source": [
    "For projects with **worst** recognition results:"
   ]
  },
  {
   "cell_type": "code",
   "execution_count": 12,
   "metadata": {
    "pycharm": {
     "name": "#%%\n"
    }
   },
   "outputs": [
    {
     "data": {
      "text/html": [
       "<div>\n",
       "<style scoped>\n",
       "    .dataframe tbody tr th:only-of-type {\n",
       "        vertical-align: middle;\n",
       "    }\n",
       "\n",
       "    .dataframe tbody tr th {\n",
       "        vertical-align: top;\n",
       "    }\n",
       "\n",
       "    .dataframe thead th {\n",
       "        text-align: right;\n",
       "    }\n",
       "</style>\n",
       "<table border=\"1\" class=\"dataframe\">\n",
       "  <thead>\n",
       "    <tr style=\"text-align: right;\">\n",
       "      <th></th>\n",
       "      <th>Project</th>\n",
       "      <th>Size</th>\n",
       "      <th>Number of methods</th>\n",
       "      <th>Mean size of tree</th>\n",
       "    </tr>\n",
       "  </thead>\n",
       "  <tbody>\n",
       "    <tr>\n",
       "      <th>0</th>\n",
       "      <td>square__keywhiz</td>\n",
       "      <td>1076135</td>\n",
       "      <td>1301</td>\n",
       "      <td>11406.160646</td>\n",
       "    </tr>\n",
       "    <tr>\n",
       "      <th>1</th>\n",
       "      <td>libgdx__packr</td>\n",
       "      <td>29681</td>\n",
       "      <td>28</td>\n",
       "      <td>19566.642857</td>\n",
       "    </tr>\n",
       "    <tr>\n",
       "      <th>2</th>\n",
       "      <td>EnterpriseQualityCoding__FizzBuzzEnterpriseEdi...</td>\n",
       "      <td>73804</td>\n",
       "      <td>71</td>\n",
       "      <td>4603.323944</td>\n",
       "    </tr>\n",
       "    <tr>\n",
       "      <th>3</th>\n",
       "      <td>rest-assured__rest-assured</td>\n",
       "      <td>2326817</td>\n",
       "      <td>3464</td>\n",
       "      <td>5281.786952</td>\n",
       "    </tr>\n",
       "    <tr>\n",
       "      <th>4</th>\n",
       "      <td>socketio__socket.io-client-java</td>\n",
       "      <td>146636</td>\n",
       "      <td>377</td>\n",
       "      <td>9351.631300</td>\n",
       "    </tr>\n",
       "  </tbody>\n",
       "</table>\n",
       "</div>"
      ],
      "text/plain": [
       "                                             Project     Size  \\\n",
       "0                                    square__keywhiz  1076135   \n",
       "1                                      libgdx__packr    29681   \n",
       "2  EnterpriseQualityCoding__FizzBuzzEnterpriseEdi...    73804   \n",
       "3                         rest-assured__rest-assured  2326817   \n",
       "4                    socketio__socket.io-client-java   146636   \n",
       "\n",
       "  Number of methods  Mean size of tree  \n",
       "0              1301       11406.160646  \n",
       "1                28       19566.642857  \n",
       "2                71        4603.323944  \n",
       "3              3464        5281.786952  \n",
       "4               377        9351.631300  "
      ]
     },
     "execution_count": 12,
     "metadata": {},
     "output_type": "execute_result"
    }
   ],
   "source": [
    "worst_project_names = data.tail(5)[\"Project\"].tolist()\n",
    "get_projects_info(worst_project_names)"
   ]
  },
  {
   "cell_type": "markdown",
   "metadata": {},
   "source": [
    "As we can see recognition results do not depend on the size of the project and the number of methods in its code, but the complexity of methods is important (this can be seen from the size of the syntax trees).\n",
    "\n",
    "Reading descriptions of these projects on github allows to say that model works better on projects, where GUI is a main part (because there are a lot of similar patterns, describing behaviour of graphics elements).\n",
    "And projects with worse recognition results are mostly back-end-focused apps for difficult purposes."
   ]
  }
 ],
 "metadata": {
  "kernelspec": {
   "display_name": "Python 3",
   "language": "python",
   "name": "python3"
  },
  "language_info": {
   "codemirror_mode": {
    "name": "ipython",
    "version": 3
   },
   "file_extension": ".py",
   "mimetype": "text/x-python",
   "name": "python",
   "nbconvert_exporter": "python",
   "pygments_lexer": "ipython3",
   "version": "3.6.13"
  }
 },
 "nbformat": 4,
 "nbformat_minor": 1
}