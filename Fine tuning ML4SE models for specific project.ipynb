{
 "cells": [
  {
   "cell_type": "markdown",
   "metadata": {
    "pycharm": {
     "name": "#%% md\n"
    }
   },
   "source": [
    "! Note, that first two code cells take several hours to execute, avoid running them."
   ]
  },
  {
   "cell_type": "markdown",
   "metadata": {},
   "source": [
    "Preprocess each project separately, to turn it into a dataset for a trained model:"
   ]
  },
  {
   "cell_type": "code",
   "execution_count": null,
   "metadata": {
    "pycharm": {
     "name": "#%%\n"
    }
   },
   "outputs": [],
   "source": [
    "import os\n",
    "\n",
    "\n",
    "for project_name in os.listdir('sources'):\n",
    "    os.system(\"bash preprocess.sh \" + project_name)"
   ]
  },
  {
   "cell_type": "markdown",
   "metadata": {},
   "source": [
    "To calculate quality metrics, evaluate a trained model passing each preprocessed project as test data:"
   ]
  },
  {
   "cell_type": "code",
   "execution_count": 1,
   "metadata": {
    "pycharm": {
     "name": "#%%\n"
    }
   },
   "outputs": [],
   "source": [
    "import csv\n",
    "import os\n",
    "\n",
    "result_file = \"quality_metrics.csv\"\n",
    "header = [\"Project\", \"F1\", \"Precision\", \"Recall\"]\n",
    "with open(result_file, \"w\") as f:\n",
    "    writer = csv.DictWriter(f, fieldnames=header)\n",
    "    writer.writeheader()\n",
    "    f.close()\n",
    "for project_name in os.listdir('sources'):\n",
    "    os.system(\"python3 code2seq.py --project %s --load models/java-large-model/model_iter52.release --test \"\n",
    "              \"data/%s/%s.test.c2s\" % (project_name, project_name, project_name))"
   ]
  },
  {
   "cell_type": "markdown",
   "metadata": {},
   "source": [
    "Let's look at the projects, where recognition results were best and worst:"
   ]
  },
  {
   "cell_type": "code",
   "execution_count": 4,
   "metadata": {
    "pycharm": {
     "name": "#%%\n"
    }
   },
   "outputs": [
    {
     "data": {
      "text/html": [
       "<div>\n",
       "<style scoped>\n",
       "    .dataframe tbody tr th:only-of-type {\n",
       "        vertical-align: middle;\n",
       "    }\n",
       "\n",
       "    .dataframe tbody tr th {\n",
       "        vertical-align: top;\n",
       "    }\n",
       "\n",
       "    .dataframe thead th {\n",
       "        text-align: right;\n",
       "    }\n",
       "</style>\n",
       "<table border=\"1\" class=\"dataframe\">\n",
       "  <thead>\n",
       "    <tr style=\"text-align: right;\">\n",
       "      <th></th>\n",
       "      <th>Project</th>\n",
       "      <th>F1</th>\n",
       "      <th>Precision</th>\n",
       "      <th>Recall</th>\n",
       "    </tr>\n",
       "  </thead>\n",
       "  <tbody>\n",
       "    <tr>\n",
       "      <th>3</th>\n",
       "      <td>socketio__socket.io-client-java</td>\n",
       "      <td>0.279433</td>\n",
       "      <td>0.305426</td>\n",
       "      <td>0.257516</td>\n",
       "    </tr>\n",
       "    <tr>\n",
       "      <th>77</th>\n",
       "      <td>rest-assured__rest-assured</td>\n",
       "      <td>0.327217</td>\n",
       "      <td>0.437792</td>\n",
       "      <td>0.261236</td>\n",
       "    </tr>\n",
       "    <tr>\n",
       "      <th>32</th>\n",
       "      <td>EnterpriseQualityCoding__FizzBuzzEnterpriseEdi...</td>\n",
       "      <td>0.379221</td>\n",
       "      <td>0.392473</td>\n",
       "      <td>0.366834</td>\n",
       "    </tr>\n",
       "    <tr>\n",
       "      <th>57</th>\n",
       "      <td>libgdx__packr</td>\n",
       "      <td>0.389381</td>\n",
       "      <td>0.448980</td>\n",
       "      <td>0.343750</td>\n",
       "    </tr>\n",
       "    <tr>\n",
       "      <th>60</th>\n",
       "      <td>square__keywhiz</td>\n",
       "      <td>0.396026</td>\n",
       "      <td>0.422675</td>\n",
       "      <td>0.372539</td>\n",
       "    </tr>\n",
       "    <tr>\n",
       "      <th>...</th>\n",
       "      <td>...</td>\n",
       "      <td>...</td>\n",
       "      <td>...</td>\n",
       "      <td>...</td>\n",
       "    </tr>\n",
       "    <tr>\n",
       "      <th>48</th>\n",
       "      <td>hugeterry__CoordinatorTabLayout</td>\n",
       "      <td>0.855072</td>\n",
       "      <td>0.867647</td>\n",
       "      <td>0.842857</td>\n",
       "    </tr>\n",
       "    <tr>\n",
       "      <th>72</th>\n",
       "      <td>daimajia__NumberProgressBar</td>\n",
       "      <td>0.867925</td>\n",
       "      <td>0.877863</td>\n",
       "      <td>0.858209</td>\n",
       "    </tr>\n",
       "    <tr>\n",
       "      <th>71</th>\n",
       "      <td>Trinea__android-auto-scroll-view-pager</td>\n",
       "      <td>0.878378</td>\n",
       "      <td>0.902778</td>\n",
       "      <td>0.855263</td>\n",
       "    </tr>\n",
       "    <tr>\n",
       "      <th>89</th>\n",
       "      <td>Tencent__MSEC</td>\n",
       "      <td>0.904964</td>\n",
       "      <td>0.910945</td>\n",
       "      <td>0.899061</td>\n",
       "    </tr>\n",
       "    <tr>\n",
       "      <th>80</th>\n",
       "      <td>Devlight__InfiniteCycleViewPager</td>\n",
       "      <td>0.907839</td>\n",
       "      <td>0.915598</td>\n",
       "      <td>0.900210</td>\n",
       "    </tr>\n",
       "  </tbody>\n",
       "</table>\n",
       "<p>95 rows × 4 columns</p>\n",
       "</div>"
      ],
      "text/plain": [
       "                                              Project        F1  Precision  \\\n",
       "3                     socketio__socket.io-client-java  0.279433   0.305426   \n",
       "77                         rest-assured__rest-assured  0.327217   0.437792   \n",
       "32  EnterpriseQualityCoding__FizzBuzzEnterpriseEdi...  0.379221   0.392473   \n",
       "57                                      libgdx__packr  0.389381   0.448980   \n",
       "60                                    square__keywhiz  0.396026   0.422675   \n",
       "..                                                ...       ...        ...   \n",
       "48                    hugeterry__CoordinatorTabLayout  0.855072   0.867647   \n",
       "72                        daimajia__NumberProgressBar  0.867925   0.877863   \n",
       "71             Trinea__android-auto-scroll-view-pager  0.878378   0.902778   \n",
       "89                                      Tencent__MSEC  0.904964   0.910945   \n",
       "80                   Devlight__InfiniteCycleViewPager  0.907839   0.915598   \n",
       "\n",
       "      Recall  \n",
       "3   0.257516  \n",
       "77  0.261236  \n",
       "32  0.366834  \n",
       "57  0.343750  \n",
       "60  0.372539  \n",
       "..       ...  \n",
       "48  0.842857  \n",
       "72  0.858209  \n",
       "71  0.855263  \n",
       "89  0.899061  \n",
       "80  0.900210  \n",
       "\n",
       "[95 rows x 4 columns]"
      ]
     },
     "execution_count": 4,
     "metadata": {},
     "output_type": "execute_result"
    }
   ],
   "source": [
    "import pandas as pd\n",
    "\n",
    "data = pd.read_csv(result_file)\n",
    "data = data.sort_values(by=\"F1\")\n",
    "data"
   ]
  },
  {
   "cell_type": "markdown",
   "metadata": {},
   "source": [
    "Now, find a mean and spread for each of quality metrics:"
   ]
  },
  {
   "cell_type": "code",
   "execution_count": 6,
   "metadata": {
    "pycharm": {
     "name": "#%%\n"
    }
   },
   "outputs": [
    {
     "name": "stdout",
     "output_type": "stream",
     "text": [
      "F1: mean 0.6487602105263157 spread 0.13753456932061955\n",
      "Precision: mean 0.6802209578947367 spread 0.12633969306886522\n",
      "Recall: mean 0.6226689368421053 spread 0.1487102951523929\n"
     ]
    }
   ],
   "source": [
    "import numpy as np\n",
    "\n",
    "def get_mean_and_spread(metric):\n",
    "    print(metric+\":\", \"mean\", np.mean(data[metric]), \"spread\", np.std(data[metric]))\n",
    "\n",
    "get_mean_and_spread(\"F1\")\n",
    "get_mean_and_spread(\"Precision\")\n",
    "get_mean_and_spread(\"Recall\")"
   ]
  }
 ],
 "metadata": {
  "kernelspec": {
   "display_name": "Python 3",
   "language": "python",
   "name": "python3"
  },
  "language_info": {
   "codemirror_mode": {
    "name": "ipython",
    "version": 3
   },
   "file_extension": ".py",
   "mimetype": "text/x-python",
   "name": "python",
   "nbconvert_exporter": "python",
   "pygments_lexer": "ipython3",
   "version": "3.6.13"
  }
 },
 "nbformat": 4,
 "nbformat_minor": 1
}